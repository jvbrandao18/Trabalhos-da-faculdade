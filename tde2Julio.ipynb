{
  "nbformat": 4,
  "nbformat_minor": 0,
  "metadata": {
    "colab": {
      "name": "Olá, este é o Colaboratory",
      "provenance": [],
      "collapsed_sections": [],
      "include_colab_link": true
    },
    "kernelspec": {
      "display_name": "Python 3",
      "name": "python3"
    }
  },
  "cells": [
    {
      "cell_type": "markdown",
      "metadata": {
        "id": "view-in-github",
        "colab_type": "text"
      },
      "source": [
        "<a href=\"https://colab.research.google.com/github/jvbrandao18/Trabalhos-da-faculdade/blob/main/tde2Julio.ipynb\" target=\"_parent\"><img src=\"https://colab.research.google.com/assets/colab-badge.svg\" alt=\"Open In Colab\"/></a>"
      ]
    },
    {
      "cell_type": "code",
      "metadata": {
        "id": "XUimwDOoq14X",
        "outputId": "b1bb0dc5-ba06-4e23-8f5f-2c52501bb36c",
        "colab": {
          "base_uri": "https://localhost:8080/"
        }
      },
      "source": [
        "#Passo 3 - Cálculo do coeficiente de correlação\n",
        "import pandas\n",
        "from sklearn import linear_model\n",
        "\n",
        "leitura_dados = pandas.read_csv(\"cars.csv\")\n",
        "\n",
        "X = leitura_dados[['Weight', 'Volume']]\n",
        "y = leitura_dados['CO2']\n",
        "\n",
        "regr = linear_model.LinearRegression()\n",
        "regr.fit(X, y)\n",
        "\n",
        "print(regr.coef_)"
      ],
      "execution_count": 11,
      "outputs": [
        {
          "output_type": "stream",
          "name": "stdout",
          "text": [
            "[0.00755095 0.00780526]\n"
          ]
        }
      ]
    },
    {
      "cell_type": "markdown",
      "metadata": {
        "id": "pBVcNn-XxZer"
      },
      "source": [
        "Regressão Linear Múltipla"
      ]
    },
    {
      "cell_type": "code",
      "metadata": {
        "id": "WQRUiymKtfaP",
        "outputId": "66fe5042-7273-4a16-f9a8-2c0529fdc21b",
        "colab": {
          "base_uri": "https://localhost:8080/",
          "height": 252
        }
      },
      "source": [
        "import numpy as np\n",
        "from sklearn import datasets, linear_model\n",
        "import matplotlib.pyplot as plt\n",
        "\n",
        "data = pd.read_csv('cars.csv', index_col=False, header=0)\n",
        "\n",
        "X=data['CO2'].values\n",
        "Y=data['Weight'].values\n",
        "\n",
        "x = x.reshape(length, 1)\n",
        "y = y.reshape(length, 1)\n",
        "\n",
        "regr = linear_model.LinearRegression()\n",
        "regr.fit(x, y)\n",
        "\n",
        "plt.scatter(x, y,  color='blue')\n",
        "plt.plot(x, regr.predict(x), color='black', linewidth=3)\n",
        "plt.xticks(())\n",
        "plt.yticks(())\n",
        "plt.show()"
      ],
      "execution_count": 55,
      "outputs": [
        {
          "output_type": "display_data",
          "data": {
            "image/png": "[encoded data removed]",
            "text/plain": [
              "<Figure size 432x288 with 1 Axes>"
            ]
          },
          "metadata": {}
        }
      ]
    },
    {
      "cell_type": "code",
      "metadata": {
        "id": "AgPH-88eF7JJ",
        "outputId": "58cde7a7-471b-43ac-dd8d-53eec21edf7f",
        "colab": {
          "base_uri": "https://localhost:8080/",
          "height": 231
        }
      },
      "source": [
        "%matplotlib inline\n",
        "import scipy as sp\n",
        "import matplotlib.pyplot as plt\n",
        "import statsmodels.formula.api as sm\n",
        "\n",
        "x1 = sp.random.normal(size=100)\n",
        "x2 = sp.random.normal(size=100)\n",
        "x3 = sp.random.normal(size=100)\n",
        "x4 = sp.random.normal(size=100)\n",
        "categoria = sp.random.binomial(n=1, p=.5, size=100)\n",
        "erro = sp.random.normal(size=100)\n",
        "\n",
        "leitura_dados = pandas.read_csv('cars.csv')\n",
        "leitura_dados\n",
        "\n",
        "# Elabora um histograma\n",
        "regr = linear_model.LinearRegression()\n",
        "regr.fit(x, y)\n",
        "print(regr.summary())\n",
        "\n",
        "y_hat = reg.predict()\n",
        "res = y - y_hat\n",
        "\n",
        "plt.hist(res, color='orange', bins=15)\n",
        "plt.title('Histograma dos resíduos da regressão')\n",
        "plt.show()"
      ],
      "execution_count": 97,
      "outputs": [
        {
          "output_type": "error",
          "ename": "NameError",
          "evalue": "ignored",
          "traceback": [
            "\u001b[0;31m---------------------------------------------------------------------------\u001b[0m",
            "\u001b[0;31mNameError\u001b[0m                                 Traceback (most recent call last)",
            "\u001b[0;32m<ipython-input-97-2cd4a225caaf>\u001b[0m in \u001b[0;36m<module>\u001b[0;34m()\u001b[0m\n\u001b[1;32m     18\u001b[0m \u001b[0;34m\u001b[0m\u001b[0m\n\u001b[1;32m     19\u001b[0m \u001b[0;34m\u001b[0m\u001b[0m\n\u001b[0;32m---> 20\u001b[0;31m \u001b[0mplt\u001b[0m\u001b[0;34m.\u001b[0m\u001b[0mhist\u001b[0m\u001b[0;34m(\u001b[0m\u001b[0mres\u001b[0m\u001b[0;34m,\u001b[0m \u001b[0mcolor\u001b[0m\u001b[0;34m=\u001b[0m\u001b[0;34m'orange'\u001b[0m\u001b[0;34m,\u001b[0m \u001b[0mbins\u001b[0m\u001b[0;34m=\u001b[0m\u001b[0;36m15\u001b[0m\u001b[0;34m)\u001b[0m\u001b[0;34m\u001b[0m\u001b[0;34m\u001b[0m\u001b[0m\n\u001b[0m\u001b[1;32m     21\u001b[0m \u001b[0mplt\u001b[0m\u001b[0;34m.\u001b[0m\u001b[0mtitle\u001b[0m\u001b[0;34m(\u001b[0m\u001b[0;34m'Histograma dos resíduos da regressão'\u001b[0m\u001b[0;34m)\u001b[0m\u001b[0;34m\u001b[0m\u001b[0;34m\u001b[0m\u001b[0m\n\u001b[1;32m     22\u001b[0m \u001b[0mplt\u001b[0m\u001b[0;34m.\u001b[0m\u001b[0mshow\u001b[0m\u001b[0;34m(\u001b[0m\u001b[0;34m)\u001b[0m\u001b[0;34m\u001b[0m\u001b[0;34m\u001b[0m\u001b[0m\n",
            "\u001b[0;31mNameError\u001b[0m: name 'res' is not defined"
          ]
        }
      ]
    }
  ]
}